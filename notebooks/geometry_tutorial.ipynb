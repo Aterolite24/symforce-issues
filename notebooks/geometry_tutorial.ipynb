{
 "cells": [
  {
   "cell_type": "markdown",
   "source": [
    "# Geometry Tutorial"
   ],
   "metadata": {}
  },
  {
   "cell_type": "markdown",
   "source": [
    "This is an introductory walkthrough of the symbolic [geometry package](../api/symforce.geo.html) in symforce. Symforce natively contains the following geometry objects: complex numbers, quaternions, dual quaternions, matrices, 2D and 3D rotations, and 2D and 3D poses (translation + rotation).\n",
    "\n",
    "In this tutorial we will demonstrate a few of the ways these geometry objects can be constructed and composed. Here we pay special attention to 3D rotations, poses, and vectors, as they are typically the most commonly used geometric objects."
   ],
   "metadata": {}
  },
  {
   "cell_type": "code",
   "execution_count": null,
   "source": [
    "# Setup\n",
    "import symforce\n",
    "symforce.set_backend('sympy')\n",
    "symforce.set_log_level('warning')\n",
    "\n",
    "from symforce.notebook_util import display\n",
    "from symforce import sympy as sm\n",
    "from symforce import geo\n",
    "from symforce import ops"
   ],
   "outputs": [],
   "metadata": {}
  },
  {
   "cell_type": "markdown",
   "source": [
    "## Rotations"
   ],
   "metadata": {}
  },
  {
   "cell_type": "markdown",
   "source": [
    "Rotations can be defined from and converted to a number of different representations as shown below, but always use a quaternion as the underlying representation. We use the notation world_R_body to represent a rotation that rotates a point written in the body frame into the world frame.\n",
    "\n",
    "Note that in some cases a small epsilon can be provided to prevent numerical errors (e.g. division by zero) when converting to/from rotation representations. Furthermore, converting between certain representations can require additional symbolic expressions to guard against degenerate cases. For example, a rotation constructed from a rotation matrix results in more complexity than when constructed using an axis-angle representation as shown below."
   ],
   "metadata": {}
  },
  {
   "cell_type": "code",
   "execution_count": null,
   "source": [
    "# Identity definition\n",
    "display(geo.Rot3())"
   ],
   "outputs": [],
   "metadata": {}
  },
  {
   "cell_type": "code",
   "execution_count": null,
   "source": [
    "# Symbolic definition\n",
    "display(geo.Rot3.symbolic('R'))"
   ],
   "outputs": [],
   "metadata": {}
  },
  {
   "cell_type": "code",
   "execution_count": null,
   "source": [
    "# To/From rotation matrix\n",
    "\n",
    "# Rotate about x-axis\n",
    "theta = sm.Symbol('theta')\n",
    "R_mat = geo.Matrix([[1, 0, 0], [0, sm.cos(theta), -sm.sin(theta)], [0, sm.sin(theta), sm.cos(theta)]])\n",
    "R = geo.Rot3.from_rotation_matrix(R_mat)\n",
    "\n",
    "display(R_mat)\n",
    "display(R)  # Note the additional expressions required to avoid numerical errors\n",
    "display(R.to_rotation_matrix())"
   ],
   "outputs": [],
   "metadata": {}
  },
  {
   "cell_type": "code",
   "execution_count": null,
   "source": [
    "# To/From Euler angles\n",
    "R = geo.Rot3.from_yaw_pitch_roll(0, 0, theta) # Yaw rotation only\n",
    "ypr = R.to_yaw_pitch_roll()\n",
    "\n",
    "display(R)\n",
    "display(ops.StorageOps.simplify(list(ypr)))  # Simplify YPR expression"
   ],
   "outputs": [],
   "metadata": {}
  },
  {
   "cell_type": "code",
   "execution_count": null,
   "source": [
    "# From axis-angle representation\n",
    "\n",
    "# Rotate about x-axis\n",
    "R = geo.Rot3.from_angle_axis(\n",
    "    angle=theta,\n",
    "    axis=geo.Vector3(1, 0, 0)\n",
    ")\n",
    "\n",
    "display(R)"
   ],
   "outputs": [],
   "metadata": {}
  },
  {
   "cell_type": "markdown",
   "source": [
    "Now that we can construct rotations, we can use them to rotate vectors as one would expect."
   ],
   "metadata": {}
  },
  {
   "cell_type": "code",
   "execution_count": null,
   "source": [
    "world_R_body = geo.Rot3.symbolic('R')  # Rotation defining orientation of body frame wrt world frame\n",
    "body_t_point = geo.Vector3.symbolic('p')  # Point written in body frame\n",
    "world_t_point = world_R_body * body_t_point  # Point written in world frame\n",
    "display(world_t_point)"
   ],
   "outputs": [],
   "metadata": {}
  },
  {
   "cell_type": "markdown",
   "source": [
    "Chaining rotations and inverting rotations works as one would expect as well:"
   ],
   "metadata": {}
  },
  {
   "cell_type": "code",
   "execution_count": null,
   "source": [
    "body_R_cam = geo.Rot3.symbolic('R_cam')\n",
    "world_R_cam = world_R_body * body_R_cam\n",
    "\n",
    "# Rotation inverse = negate vector part of quaternion\n",
    "cam_R_body = body_R_cam.inverse()\n",
    "display(body_R_cam)\n",
    "display(cam_R_body)"
   ],
   "outputs": [],
   "metadata": {}
  },
  {
   "cell_type": "markdown",
   "source": [
    "We can also easily substitute numerical values into symbolic expressions using geo objects themselves. This makes it very convenient to substitute numeric values into large symbolic expressions constructed using many different geo objects."
   ],
   "metadata": {}
  },
  {
   "cell_type": "code",
   "execution_count": null,
   "source": [
    "world_R_body_numeric = geo.Rot3.from_yaw_pitch_roll(0.1, -2.3, 0.7)\n",
    "display(world_t_point.subs(world_R_body, world_R_body_numeric))"
   ],
   "outputs": [],
   "metadata": {}
  },
  {
   "cell_type": "markdown",
   "source": [
    "## Poses"
   ],
   "metadata": {}
  },
  {
   "cell_type": "markdown",
   "source": [
    "Poses are defined as a rotation plus a translation, and are constructed as such. We use the notation world_T_body to represent a pose that transforms from the body frame to the world frame."
   ],
   "metadata": {}
  },
  {
   "cell_type": "code",
   "execution_count": null,
   "source": [
    "# Symbolic construction\n",
    "world_T_body = geo.Pose3.symbolic('T')\n",
    "display(world_T_body)"
   ],
   "outputs": [],
   "metadata": {}
  },
  {
   "cell_type": "code",
   "execution_count": null,
   "source": [
    "# Construction from a rotation and translation\n",
    "world_R_body = geo.Rot3.symbolic('R')  # Orientation of body frame wrt world frame\n",
    "world_t_body = geo.Vector3.symbolic('t')  # Position of body frame wrt world frame written in the world frame\n",
    "world_T_body = geo.Pose3(\n",
    "    R=world_R_body,\n",
    "    t=world_t_body\n",
    ")\n",
    "display(world_T_body)"
   ],
   "outputs": [],
   "metadata": {}
  },
  {
   "cell_type": "markdown",
   "source": [
    "Similar to rotations, we can compose poses with poses, compose poses with 3D points, and invert poses as one would expect."
   ],
   "metadata": {}
  },
  {
   "cell_type": "code",
   "execution_count": null,
   "source": [
    "# Compose pose with a pose\n",
    "body_T_cam = geo.Pose3.symbolic('T_cam')\n",
    "world_T_cam = world_T_body * body_T_cam\n",
    "\n",
    "# Compose pose with a point\n",
    "body_t_point = geo.Vector3.symbolic('p')  # Position relative to body frame written in body frame\n",
    "display(world_T_body * body_t_point)  # Equivalent to: world_R_body * body_t_point + world_t_body"
   ],
   "outputs": [],
   "metadata": {}
  },
  {
   "cell_type": "code",
   "execution_count": null,
   "source": [
    "# Invert a pose\n",
    "body_T_world = world_T_body.inverse()\n",
    "display(world_T_body)\n",
    "display(body_T_world)"
   ],
   "outputs": [],
   "metadata": {}
  },
  {
   "cell_type": "markdown",
   "source": [
    "## Vectors and matricies"
   ],
   "metadata": {}
  },
  {
   "cell_type": "markdown",
   "source": [
    "Vectors and matrices are all represented using subclasses of geo.Matrix class, and can be constrcuted in several different ways as shown below."
   ],
   "metadata": {}
  },
  {
   "cell_type": "code",
   "execution_count": null,
   "source": [
    "# Matrix construction. The statements below all create the same 2x3 matrix object\n",
    "\n",
    "# Construction from 2D list\n",
    "m1 = geo.Matrix([[1, 2, 3], [4, 5, 6]])\n",
    "\n",
    "# Construction using specified size + data\n",
    "m2 = geo.Matrix(2, 3, [1, 2, 3, 4, 5, 6])\n",
    "\n",
    "# geo.MatrixNM creates a matrix with shape NxM (defined by default 6x6 matrices and smaller)\n",
    "m3 = geo.Matrix23(1, 2, 3, 4, 5, 6)\n",
    "m4 = geo.Matrix23([1, 2, 3, 4, 5, 6])\n",
    "\n",
    "# Construction using aliases\n",
    "m5 = geo.M([[1, 2, 3], [4, 5, 6]])\n",
    "m6 = geo.M(2, 3, [1, 2, 3, 4, 5, 6])\n",
    "m7 = geo.M23(1, 2, 3, 4, 5, 6)\n",
    "m8 = geo.M23([1, 2, 3, 4, 5, 6])\n",
    "\n",
    "# Construction from block matrices of appropriate dimensions\n",
    "m9 = geo.Matrix23.block_matrix([[geo.M13([1, 2, 3])], [geo.M13([3, 4, 5])]])"
   ],
   "outputs": [],
   "metadata": {}
  },
  {
   "cell_type": "code",
   "execution_count": null,
   "source": [
    "# Vector constructors. The statements below all create the same 3x1 vector object\n",
    "\n",
    "# Construction from 2D list\n",
    "v1 = geo.Matrix([[1], [2], [3]])\n",
    "\n",
    "# Construction from 1D list. We assume a 1D list represents a column vector.\n",
    "v2 = geo.Matrix([1, 2, 3])\n",
    "\n",
    "# Construction using aliases (defined by default for 9x1 vectors and smaller)\n",
    "v3 = geo.Matrix31(1, 2, 3)\n",
    "v4 = geo.M31(1, 2, 3)\n",
    "v5 = geo.Vector3(1, 2, 3)\n",
    "v6 = geo.V3(1, 2, 3)"
   ],
   "outputs": [],
   "metadata": {}
  },
  {
   "cell_type": "markdown",
   "source": [
    "We can also use a few typical matrix constructors:"
   ],
   "metadata": {}
  },
  {
   "cell_type": "code",
   "execution_count": null,
   "source": [
    "# Matrix of zeros\n",
    "z1 = geo.Matrix23.zero()\n",
    "z2 = geo.Matrix.zeros(2, 3)\n",
    "\n",
    "# Matrix of ones\n",
    "o1 = geo.Matrix23.one()\n",
    "o2 = geo.Matrix.ones(2, 3)"
   ],
   "outputs": [],
   "metadata": {}
  },
  {
   "cell_type": "markdown",
   "source": [
    "Note that in symforce we define matrices as groups under element-wise addition, meaning that the \"identity\" element of a given sized matrix is the zero matrix."
   ],
   "metadata": {}
  },
  {
   "cell_type": "code",
   "execution_count": null,
   "source": [
    "zero_matrix = geo.Matrix33.identity()\n",
    "identity_matrix = geo.Matrix33.matrix_identity()  # We could also write geo.Matrix.eye(3, 3)\n",
    "\n",
    "display(zero_matrix)\n",
    "display(identity_matrix)"
   ],
   "outputs": [],
   "metadata": {}
  },
  {
   "cell_type": "markdown",
   "source": [
    "And, of course, matrix math works as one would expect:"
   ],
   "metadata": {}
  },
  {
   "cell_type": "code",
   "execution_count": null,
   "source": [
    "# Matrix multiplication\n",
    "m23 = geo.M23.symbolic('lhs')\n",
    "m31 = geo.V3.symbolic('rhs')\n",
    "display(m23 * m31)"
   ],
   "outputs": [],
   "metadata": {}
  },
  {
   "cell_type": "code",
   "execution_count": null,
   "source": [
    "# Vector operations\n",
    "norm = m31.norm()\n",
    "squared_norm = m31.squared_norm()\n",
    "unit_vec = m31.normalized()\n",
    "display(unit_vec)"
   ],
   "outputs": [],
   "metadata": {}
  },
  {
   "cell_type": "code",
   "execution_count": null,
   "source": [
    "m33 = 5 * geo.Matrix33.matrix_identity()  # Element-wise multiplication with scalar\n",
    "display(m33.matrix_inverse())  # Matrix inverse"
   ],
   "outputs": [],
   "metadata": {}
  },
  {
   "cell_type": "markdown",
   "source": [
    "One of the most powerful operations we can use matrices for is to compute jacobians with respect to other geo objects. By default we compute jacobians with respect to the tangent space of the given object."
   ],
   "metadata": {}
  },
  {
   "cell_type": "code",
   "execution_count": null,
   "source": [
    "R0 = geo.Rot3.symbolic(\"R0\")\n",
    "R1 = geo.Rot3.symbolic(\"R1\")\n",
    "residual = geo.M(R0.local_coordinates(R1))\n",
    "display(residual)"
   ],
   "outputs": [],
   "metadata": {}
  },
  {
   "cell_type": "code",
   "execution_count": null,
   "source": [
    "jacobian = residual.jacobian(R1)\n",
    "# The jacobian is quite a complex symbolic expression, so we don't display it for convenience\n",
    "# The shape is equal to (dimension of residual) x (dimension of tangent space)\n",
    "display(jacobian.shape)"
   ],
   "outputs": [],
   "metadata": {}
  },
  {
   "cell_type": "markdown",
   "source": [
    "## General properties of geo objects"
   ],
   "metadata": {}
  },
  {
   "cell_type": "markdown",
   "source": [
    "### Storage operations"
   ],
   "metadata": {}
  },
  {
   "cell_type": "markdown",
   "source": [
    "All geometric types implement the \"Storage\" interface. This means that they can:\n",
    "\n",
    "1. Be serialized into a list of scalar expressions (`.to_storage()`)\n",
    "2. Be reconstructed from a list of scalar expressions (`.from_storage()`)\n",
    "3. Use common symbolic operations (symbolic construction, substitution, simplification, etc.)"
   ],
   "metadata": {}
  },
  {
   "cell_type": "code",
   "execution_count": null,
   "source": [
    "# Serialization to scalar list\n",
    "rot = geo.Rot3()\n",
    "elements = rot.to_storage()\n",
    "assert len(elements) == rot.storage_dim()\n",
    "display(elements)"
   ],
   "outputs": [],
   "metadata": {}
  },
  {
   "cell_type": "code",
   "execution_count": null,
   "source": [
    "# Construction from scalar list\n",
    "rot2 = geo.Rot3.from_storage(elements)\n",
    "assert rot == rot2"
   ],
   "outputs": [],
   "metadata": {}
  },
  {
   "cell_type": "code",
   "execution_count": null,
   "source": [
    "# Symbolic operations\n",
    "rot_sym = geo.Rot3.symbolic(\"rot_sym\")\n",
    "rot_num = rot_sym.subs(rot_sym, rot)\n",
    "\n",
    "display(rot_sym)\n",
    "display(rot_num)\n",
    "display(rot_num.simplify())  # Simplify interal symbolic expressions\n",
    "display(rot_num.evalf())  # Numerical evaluation"
   ],
   "outputs": [],
   "metadata": {}
  },
  {
   "cell_type": "markdown",
   "source": [
    "### Group operations"
   ],
   "metadata": {}
  },
  {
   "cell_type": "markdown",
   "source": [
    "All geometric types also implement the \"Group\" interface, meaning that geometric objects:\n",
    "\n",
    "1. Can be composed with objects of the same type to produce an object of the same type (`.compose()`)\n",
    "2. Have an identity element (`.identity()`)\n",
    "3. Can be inverted (`.inverse()`)\n",
    "4. Can be created to represent the relation between two other objects of the same type (`.between()`)"
   ],
   "metadata": {}
  },
  {
   "cell_type": "code",
   "execution_count": null,
   "source": [
    "# Construct two random rotations\n",
    "R1 = geo.Rot3.random()\n",
    "R2 = geo.Rot3.random()\n",
    "\n",
    "# Composition\n",
    "display(R1.compose(R2))  # For rotations this is the same as R1 * R2"
   ],
   "outputs": [],
   "metadata": {}
  },
  {
   "cell_type": "code",
   "execution_count": null,
   "source": [
    "# Identity\n",
    "R_identity = geo.Rot3.identity()\n",
    "display(R1)\n",
    "display(R_identity * R1)"
   ],
   "outputs": [],
   "metadata": {}
  },
  {
   "cell_type": "code",
   "execution_count": null,
   "source": [
    "# Inverse\n",
    "R1_inv = R1.inverse()\n",
    "display(R_identity)\n",
    "display(R1_inv * R1)"
   ],
   "outputs": [],
   "metadata": {}
  },
  {
   "cell_type": "code",
   "execution_count": null,
   "source": [
    "# Between\n",
    "R_delta = R1.between(R2)\n",
    "display(R1 * R_delta)\n",
    "display(R2)"
   ],
   "outputs": [],
   "metadata": {}
  },
  {
   "cell_type": "markdown",
   "source": [
    "### Lie Group operations"
   ],
   "metadata": {}
  },
  {
   "cell_type": "markdown",
   "source": [
    "Rotations, poses, and matrices all implement the \"LieGroup\" interface, meaning that they each have a tangent space. Objects which are a Lie Group can:\n",
    "\n",
    "1. Be used to compute the tangent space vector about the identity element (`.to_tangent()`)\n",
    "2. Be constructed from a tangent space vector about the identity element (`.from_tangent()`)\n",
    "3. Be perturbed by a tangent space vector about the given element (`.retract()`)\n",
    "4. Be used to compute the tangent space perturbation needed to obtain another given element (`.local_coordinates()`)\n",
    "5. Be used to compute a jacobian describing the relation between the underlying data of the object (e.g. a quaternion for a rotation) and the tangent space vector about the given element (`.storage_D_tangent()`)"
   ],
   "metadata": {}
  },
  {
   "cell_type": "code",
   "execution_count": null,
   "source": [
    "# To/From tangent space vector about identity element\n",
    "R1 = geo.Rot3.random()\n",
    "tangent_vec = R1.to_tangent()\n",
    "R1_recovered = geo.Rot3.from_tangent(tangent_vec)\n",
    "\n",
    "assert len(tangent_vec) == R1.tangent_dim()\n",
    "display(R1)\n",
    "display(R1_recovered)"
   ],
   "outputs": [],
   "metadata": {}
  },
  {
   "cell_type": "code",
   "execution_count": null,
   "source": [
    "# Tangent space perturbations\n",
    "R2 = R1.retract([0.1, 2.3, -0.5])  # Perturb R1 by the given tangent space vector (relative to R1)\n",
    "recovered_tangent_vec = R1.local_coordinates(R2)\n",
    "\n",
    "display(recovered_tangent_vec)"
   ],
   "outputs": [],
   "metadata": {}
  },
  {
   "cell_type": "code",
   "execution_count": null,
   "source": [
    "# Jacobian of storage w.r.t tangent space perturbation\n",
    "\n",
    "# We chain storage_D_tangent together with jacobians of larger symbolic expressions taken\n",
    "# with respect to the symbolic elements of the object (e.g. a quaternion for rotations) to compute\n",
    "# the jacobian wrt the tanget space about the element.\n",
    "# I.e. residual_D_tangent = residual_D_storage * storage_D_tangent\n",
    "\n",
    "jacobian = R1.storage_D_tangent()\n",
    "assert jacobian.shape == (R1.storage_dim(), R1.tangent_dim())"
   ],
   "outputs": [],
   "metadata": {}
  },
  {
   "cell_type": "markdown",
   "source": [
    "For more detials on Storage/Group/LieGroup operations, see the [Concept tutorial](../notebooks/ops_tutorial.html)."
   ],
   "metadata": {}
  }
 ],
 "metadata": {
  "file_extension": ".py",
  "kernelspec": {
   "display_name": "Python 3",
   "language": "python",
   "name": "python3"
  },
  "language_info": {
   "codemirror_mode": {
    "name": "ipython",
    "version": 3
   },
   "file_extension": ".py",
   "mimetype": "text/x-python",
   "name": "python",
   "nbconvert_exporter": "python",
   "pygments_lexer": "ipython3",
   "version": "3.8.2"
  },
  "mimetype": "text/x-python",
  "name": "python",
  "npconvert_exporter": "python",
  "pygments_lexer": "ipython2",
  "version": 2
 },
 "nbformat": 4,
 "nbformat_minor": 2
}
