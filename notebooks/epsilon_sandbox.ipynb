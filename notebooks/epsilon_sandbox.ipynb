{
 "cells": [
  {
   "cell_type": "markdown",
   "metadata": {},
   "source": [
    "# The use of epsilon to prevent singularities"
   ]
  },
  {
   "cell_type": "code",
   "execution_count": null,
   "metadata": {},
   "outputs": [],
   "source": [
    "import sympy as sm"
   ]
  },
  {
   "cell_type": "markdown",
   "metadata": {},
   "source": [
    "We have a function `f(x)`.\n",
    "\n",
    "In the simplest case, we're trying to fix a singularity at `x=0`:  \n",
    "`f(x).subs(x, 0) == sm.S.NaN`\n",
    "\n",
    "We need to make an epsilon version `f(x, eps)` so the value is not NaN:  \n",
    "`f(x, eps).subs(x, 0) != sm.S.NaN`\n",
    "\n",
    "And also the derivative is not NaN:  \n",
    "`f(x, eps).diff(x).subs(x, 0) != NaN`\n",
    "\n",
    "For value continuity it would be nice to match the limit:  \n",
    "`f(x, eps).subs(x, 0).limit(eps, 0) == f(x).limit(x, 0)`\n",
    "\n",
    "For derivative continuity it would be nice to match the limit: \n",
    "`f(x, eps).diff(x).subs(x, 0).limit(eps, 0) == f(x).diff(x).limit(x, 0)`"
   ]
  },
  {
   "cell_type": "code",
   "execution_count": null,
   "metadata": {},
   "outputs": [],
   "source": [
    "def is_epsilon_correct(func, singularity=0, limit_direction=\"+\", display_func=display):\n",
    "    # type: (T.Callable) -> bool\n",
    "    \"\"\"\n",
    "    Check epsilon handling for a function that accepts a single value and an epsilon.\n",
    "\n",
    "    For epsilon to be handled correctly, the function must:\n",
    "        1) evaluate to a non-singularity at x=singularity given epsilon\n",
    "        2) linear approximation of the original must match that taken with epsilon then substituted to zero\n",
    "    \"\"\"\n",
    "    # Create symbols\n",
    "    x = sm.Symbol('x', real=True)\n",
    "    epsilon = sm.Symbol('epsilon', positive=True)\n",
    "    EPS = 1e-8\n",
    "    TOL = sm.sqrt(EPS)\n",
    "\n",
    "    is_correct = True\n",
    "\n",
    "    # Evaluate expression\n",
    "    expr_eps = func(x, epsilon)\n",
    "    expr_raw = expr_eps.subs(epsilon, 0)\n",
    "\n",
    "    if display_func:\n",
    "        display_func('Expressions (raw / eps):')\n",
    "        display_func(expr_raw)\n",
    "        display_func(expr_eps)\n",
    "\n",
    "    # Sub in zero\n",
    "    expr_eps_at_x_zero = expr_eps.subs(x, singularity)\n",
    "    if expr_eps_at_x_zero == sm.S.NaN:\n",
    "        display_func('[ERROR] Epsilon handling failed, expression at 0 is NaN.')\n",
    "        is_correct = False     \n",
    "\n",
    "    # Take constant approximation at singularity and check equivalence\n",
    "    value_x0_raw = sm.simplify(expr_raw.limit(x, singularity, limit_direction))\n",
    "    value_x0_eps = expr_eps.subs(x, singularity)\n",
    "    value_x0_eps_sub2 = sm.simplify(value_x0_eps.limit(epsilon, 0))\n",
    "    if value_x0_eps_sub2 != value_x0_raw:\n",
    "        if display_func:\n",
    "            display_func('[ERROR] Values at x={} not match (raw / eps / eps.limit):'.format(singularity))\n",
    "            display_func(value_x0_raw)\n",
    "            display_func(value_x0_eps)\n",
    "            display_func(value_x0_eps_sub2)\n",
    "        is_correct = False\n",
    "    \n",
    "    # NOTE(hayk): Perhaps it's useful to be less strict and plug in small numerical values for x and eps\n",
    "    #     value_x0_eps_sub = value_x0_eps.subs(epsilon, EPS)\n",
    "    #     if abs(value_x0_raw.evalf() - value_x0_eps_sub.evalf()) > TOL:]\n",
    "    #     derivative_x0_eps_sub = derivative_x0_eps.subs(epsilon, EPS)\n",
    "    #     if abs(derivative_x0_raw.evalf() - derivative_x0_eps_sub.evalf()) > TOL:\n",
    "\n",
    "    # Take linear approximation at singularity and check equivalence\n",
    "    derivative_x0_raw = sm.simplify(expr_raw.diff(x).limit(x, singularity, limit_direction))\n",
    "    derivative_x0_eps = expr_eps.diff(x).subs(x, singularity)\n",
    "    derivative_x0_eps_sub2 = sm.simplify(derivative_x0_eps.limit(epsilon, 0))\n",
    "    if derivative_x0_eps_sub2 != derivative_x0_raw:\n",
    "        if display_func:\n",
    "            display_func('[ERROR] Derivatives at x={} not match (raw / eps / eps.limit):'.format(singularity))\n",
    "            display_func(derivative_x0_raw)\n",
    "            display_func(derivative_x0_eps)\n",
    "            display_func(derivative_x0_eps_sub2)\n",
    "        is_correct = False\n",
    "\n",
    "    return is_correct"
   ]
  },
  {
   "cell_type": "markdown",
   "metadata": {},
   "source": [
    "# Test sin(x) / x\n",
    "\n",
    "For the whole section below, let's pretend x is positive so $x = -\\epsilon$ is not a fear. We'll address that later."
   ]
  },
  {
   "cell_type": "code",
   "execution_count": null,
   "metadata": {},
   "outputs": [],
   "source": [
    "# Original function fails, singular at x=0\n",
    "assert is_epsilon_correct(\n",
    "    lambda x, eps: sm.sin(x) / x\n",
    ") == False"
   ]
  },
  {
   "cell_type": "code",
   "execution_count": null,
   "metadata": {},
   "outputs": [],
   "source": [
    "# Original broken attempt\n",
    "assert is_epsilon_correct(\n",
    "    lambda x, eps: sm.sin(x) / (eps + x)\n",
    ") == False"
   ]
  },
  {
   "cell_type": "code",
   "execution_count": null,
   "metadata": {},
   "outputs": [],
   "source": [
    "# Additive on top/bottom works\n",
    "assert is_epsilon_correct(\n",
    "    lambda x, eps: (eps + sm.sin(x)) / (eps + x)\n",
    ") == True"
   ]
  },
  {
   "cell_type": "code",
   "execution_count": null,
   "metadata": {},
   "outputs": [],
   "source": [
    "# Replacing all x with (x + eps) works\n",
    "assert is_epsilon_correct(\n",
    "    lambda x, eps: sm.sin(x + eps) / (x + eps)\n",
    ") == True"
   ]
  },
  {
   "cell_type": "markdown",
   "metadata": {},
   "source": [
    "# Test (1 - cos(x)) / x"
   ]
  },
  {
   "cell_type": "code",
   "execution_count": null,
   "metadata": {},
   "outputs": [],
   "source": [
    "# Original fails, singular at 0\n",
    "assert is_epsilon_correct(\n",
    "    lambda x, eps: (1 - sm.cos(x)) / x\n",
    ") == False"
   ]
  },
  {
   "cell_type": "code",
   "execution_count": null,
   "metadata": {},
   "outputs": [],
   "source": [
    "# Value passes if we just replace the denominator, because this one is ~ x**2 / x unlike the above which is ~ x / x\n",
    "assert is_epsilon_correct(\n",
    "    lambda x, eps: (1 - sm.cos(x)) / (x + eps)\n",
    ") == False"
   ]
  },
  {
   "cell_type": "code",
   "execution_count": null,
   "metadata": {},
   "outputs": [],
   "source": [
    "# Derivative also passes if we replace both\n",
    "assert is_epsilon_correct(\n",
    "    lambda x, eps: (1 - sm.cos(x + eps)) / (x + eps)\n",
    ") == True"
   ]
  },
  {
   "cell_type": "markdown",
   "metadata": {},
   "source": [
    "# Test x / sqrt(x**2)"
   ]
  },
  {
   "cell_type": "code",
   "execution_count": null,
   "metadata": {},
   "outputs": [],
   "source": [
    "# Original fails, singular at 0\n",
    "assert is_epsilon_correct(\n",
    "    lambda x, eps: x / sm.sqrt(x**2)\n",
    ") == False"
   ]
  },
  {
   "cell_type": "code",
   "execution_count": null,
   "metadata": {},
   "outputs": [],
   "source": [
    "# Broken fix #1\n",
    "assert is_epsilon_correct(\n",
    "    lambda x, eps: x / sm.sqrt(x**2 + eps**2)\n",
    ") == False"
   ]
  },
  {
   "cell_type": "code",
   "execution_count": null,
   "metadata": {},
   "outputs": [],
   "source": [
    "# Broken fix #2\n",
    "assert is_epsilon_correct(\n",
    "    lambda x, eps: (x + eps) / sm.sqrt(x**2 + eps**2)\n",
    ") == False"
   ]
  },
  {
   "cell_type": "code",
   "execution_count": null,
   "metadata": {},
   "outputs": [],
   "source": [
    "# Broken fix #3, ugh\n",
    "assert is_epsilon_correct(\n",
    "    lambda x, eps: (x + eps) / (eps + sm.sqrt(x**2 + eps**2))\n",
    ") == False"
   ]
  },
  {
   "cell_type": "code",
   "execution_count": null,
   "metadata": {},
   "outputs": [],
   "source": [
    "# Working if you again replace all x with x + eps\n",
    "assert is_epsilon_correct(\n",
    "    lambda x, eps: (x + eps) / sm.sqrt((x + eps)**2)\n",
    ") == True"
   ]
  },
  {
   "cell_type": "markdown",
   "metadata": {},
   "source": [
    "# Test acos(x) / sqrt(1 - x^2) at 1"
   ]
  },
  {
   "cell_type": "code",
   "execution_count": null,
   "metadata": {},
   "outputs": [],
   "source": [
    "# Original fails, singular at 1\n",
    "assert is_epsilon_correct(\n",
    "    lambda x, eps: sm.acos(x) / sm.sqrt(1 - x**2),\n",
    "    singularity=1,\n",
    ") == False"
   ]
  },
  {
   "cell_type": "code",
   "execution_count": null,
   "metadata": {},
   "outputs": [],
   "source": [
    "# Working if you replace all x with x + eps\n",
    "assert is_epsilon_correct(\n",
    "    lambda x, eps: sm.acos(x + eps) / sm.sqrt(1 - (x + eps)**2),\n",
    "    singularity=1,\n",
    ") == True"
   ]
  },
  {
   "cell_type": "markdown",
   "metadata": {},
   "source": [
    "# Test atan2(0, x)"
   ]
  },
  {
   "cell_type": "code",
   "execution_count": null,
   "metadata": {},
   "outputs": [],
   "source": [
    "# Original is singular\n",
    "assert is_epsilon_correct(\n",
    "    lambda x, eps: sm.atan2(0, x)\n",
    ") == False"
   ]
  },
  {
   "cell_type": "code",
   "execution_count": null,
   "metadata": {},
   "outputs": [],
   "source": [
    "# This works\n",
    "assert is_epsilon_correct(\n",
    "    lambda x, eps: sm.atan2(0, x + eps)\n",
    ") == True"
   ]
  },
  {
   "cell_type": "markdown",
   "metadata": {},
   "source": [
    "# Handling negative x"
   ]
  },
  {
   "cell_type": "markdown",
   "metadata": {},
   "source": [
    "If we consider an example from above like $sin(x + \\epsilon) / (x + \\epsilon)$, this can easily be singular for a negative $x$, specifically where $x = -\\epsilon$. If $x$ were always negative, we could do $sin(x - \\epsilon) / (x - \\epsilon)$.\n",
    "\n",
    "So to handle both cases we can use the sign function as: $sin(x + sign(x) * \\epsilon) / (x + sign(x) * \\epsilon)$. This gives us the behavior that it always pushes $x$ away from zero because $sign(+) = 1$ and $sign(-) = -1$. However, $sign(0) = 0$ which breaks the original zero point. To resolve this we can make a \"no zero\" version that arbitrarily picks the positive direction when exactly at zero.\n",
    "\n",
    "We can implement this cleverly with the help of a min function:"
   ]
  },
  {
   "cell_type": "code",
   "execution_count": null,
   "metadata": {},
   "outputs": [],
   "source": [
    "def sign_no_zero(x):\n",
    "    # type: (T.Scalar) -> T.Scalar\n",
    "    \"\"\"\n",
    "    Returns -1 if x is negative, 1 if x is positive, and 1 if x is zero (given a positive epsilon).\n",
    "    \"\"\"\n",
    "    return 2 * sm.Min(sm.sign(x), 0) + 1"
   ]
  },
  {
   "cell_type": "code",
   "execution_count": null,
   "metadata": {},
   "outputs": [],
   "source": [
    "# Test for sin(x) / x\n",
    "assert is_epsilon_correct(\n",
    "    lambda x, eps: (sm.sin(x + eps * sign_no_zero(x))) / (x + eps * sign_no_zero(x))\n",
    ") == True"
   ]
  },
  {
   "cell_type": "code",
   "execution_count": null,
   "metadata": {},
   "outputs": [],
   "source": [
    "# Test for x / sqrt(x**2)\n",
    "assert is_epsilon_correct(\n",
    "    lambda x, eps: (x + eps) / sm.sqrt((x + eps)**2)\n",
    ") == True"
   ]
  },
  {
   "cell_type": "code",
   "execution_count": null,
   "metadata": {},
   "outputs": [],
   "source": [
    "# Test for atan2(0, x)\n",
    "assert is_epsilon_correct(\n",
    "    lambda x, eps: sm.atan2(0, x + eps * sign_no_zero(x))\n",
    ") == True"
   ]
  },
  {
   "cell_type": "markdown",
   "metadata": {},
   "source": [
    "# Generalization"
   ]
  },
  {
   "cell_type": "markdown",
   "metadata": {},
   "source": [
    "So far it seems like for a function $f(x)$ that is singular at $x=0$, the expression $f(x + \\epsilon * snc(x))$ for a small positive $\\epsilon$ will be non-singular and retain the same linear approximiation as $f(x)$. $snc$ is `sign_no_zero`. So we can easily write a function that does this substitution:"
   ]
  },
  {
   "cell_type": "code",
   "execution_count": null,
   "metadata": {},
   "outputs": [],
   "source": [
    "def add_epsilon_sign(expr, var, eps):\n",
    "    return expr.subs(var, var + eps * sign_no_zero(var))\n",
    "\n",
    "# Alternative using Max\n",
    "def add_epsilon_max(expr, var, eps):\n",
    "    return expr.subs(var, sign_no_zero(var) * sm.Max(eps, sm.Abs(var)))"
   ]
  },
  {
   "cell_type": "code",
   "execution_count": null,
   "metadata": {},
   "outputs": [],
   "source": [
    "# Check known example\n",
    "assert is_epsilon_correct(\n",
    "    lambda x, eps: add_epsilon_sign(sm.sin(x) / x, x, eps)\n",
    ") == True"
   ]
  },
  {
   "cell_type": "code",
   "execution_count": null,
   "metadata": {},
   "outputs": [],
   "source": [
    "# With Max\n",
    "assert is_epsilon_correct(\n",
    "    lambda x, eps: add_epsilon_max(sm.sin(x) / x, x, eps)\n",
    ") == True"
   ]
  },
  {
   "cell_type": "code",
   "execution_count": null,
   "metadata": {},
   "outputs": [],
   "source": [
    "# Try some more complicated thing nobody wants to epsilon by hand\n",
    "assert is_epsilon_correct(\n",
    "    lambda x, eps: add_epsilon_sign((x + sm.sin(x)**2) / (x * (1 - 1/x)), x, eps)\n",
    ") == True"
   ]
  },
  {
   "cell_type": "markdown",
   "metadata": {},
   "source": [
    "Another common case is a function $f(x)$ that is singular at $|x| = 1$, where we expect $x$ to be between $-1$ and $1$.  In this case we can use a similar idea, using $f(x - \\epsilon * snc(x))$.  Functions to do this would be:"
   ]
  },
  {
   "cell_type": "code",
   "execution_count": null,
   "metadata": {},
   "outputs": [],
   "source": [
    "def add_epsilon_near_1_sign(expr, var, eps):\n",
    "    return expr.subs(var, var - eps * sign_no_zero(var))\n",
    "\n",
    "# Alternative using Max/Min\n",
    "def add_epsilon_near_1_clamp(expr, var, eps):\n",
    "    return expr.subs(var, sm.Max(-1 + eps, sm.Min(1 - eps, var)))"
   ]
  },
  {
   "cell_type": "code",
   "execution_count": null,
   "metadata": {},
   "outputs": [],
   "source": [
    "# Check known example\n",
    "assert is_epsilon_correct(\n",
    "    lambda x, eps: add_epsilon_near_1_sign(sm.cos(x) / sm.sqrt(1 - x**2), x, eps),\n",
    "    singularity=1,\n",
    "    limit_direction=\"-\",\n",
    ") == True"
   ]
  },
  {
   "cell_type": "markdown",
   "metadata": {},
   "source": [
    "So in a sense we could just not write epsilons by hand and automatically add them in. However, all of this is assuming the only singularity is at $x=0$. It's easy to construct an arbitrary singularity, like $1/(1-x)$ for $x=1$. It's also easy to construct singularities where this method works symbolically, but relies on values like $\\epsilon^2$ which are too small in actual floating point implementations (see the `Pose2.to_tangent` section below).  And we could have a composite of multiple functions, so it's hard to have global visibility into what all your singular points are. Sometimes parameter have a fixed range, sometimes things are normalized, etc.\n",
    "\n",
    "So the question is how well can we generalize this single variable example with a single known singularity to multiple variables and only locally known singularities like at the places we add a division, square root, or atan2 operatiion?"
   ]
  },
  {
   "cell_type": "markdown",
   "metadata": {},
   "source": [
    "# Case Studies"
   ]
  },
  {
   "cell_type": "markdown",
   "metadata": {},
   "source": [
    "## Pose2.from_tangent\n",
    "\n",
    "`Pose2.from_tangent` before epsilon handling looks like:\n",
    "\n",
    "```python\n",
    "def pose2_from_tangent(v):\n",
    "    theta = v[2]\n",
    "    R = Rot2.from_tangent([theta])\n",
    "    \n",
    "    a = sm.sin(theta) / theta\n",
    "    b = (1 - sm.cos(theta)) / theta\n",
    "    \n",
    "    t = geo.Vector2(a * v[0] - b * v[1], b * v[0] + a * v[1])\n",
    "    return geo.Pose2(R, t)\n",
    "```\n",
    "\n",
    "This has singularities in both `a` and `b` that we'd like to fix.  The initial version used:\n",
    "\n",
    "```python\n",
    "a = sm.sin(theta) / (theta + epsilon)\n",
    "b = (1 - sm.cos(theta)) / (theta + epsilon)\n",
    "```\n",
    "\n",
    "For `a`, this falls under the $sin(x) / x$ example above, and `b` falls under the $(1 - cos(x)) / x$ example above, so we can use the fixes from those examples, modified to handle negative $x$ as in the Generalization section."
   ]
  },
  {
   "cell_type": "markdown",
   "metadata": {},
   "source": [
    "## Pose2.to_tangent\n",
    "\n",
    "`Pose2.to_tangent` before epsilon handling looks like:\n",
    "\n",
    "```python\n",
    "def pose2_to_tangent():\n",
    "    theta = self.R.to_tangent()[0]\n",
    "    halftheta = 0.5 * theta\n",
    "    a = (halftheta * sm.sin(theta)) / (1 - sm.cos(theta))\n",
    "    \n",
    "    V_inv = Matrix[[a, halftheta], [-halftheta, a]])\n",
    "    t_tangent = V_inv * self.t\n",
    "    return [t_tangent[0], t_tangent[1], theta]\n",
    "```\n",
    "\n",
    "This has a singularity in `a` that looks like:"
   ]
  },
  {
   "cell_type": "code",
   "execution_count": null,
   "metadata": {},
   "outputs": [],
   "source": [
    "assert is_epsilon_correct(\n",
    "    lambda theta, eps: (0.5 * theta * sm.sin(theta)) / (1 - sm.cos(theta))\n",
    ") == False"
   ]
  },
  {
   "cell_type": "markdown",
   "metadata": {},
   "source": [
    "We might think this can be fixed with with the $x = x + \\epsilon$ trick:"
   ]
  },
  {
   "cell_type": "code",
   "execution_count": null,
   "metadata": {},
   "outputs": [],
   "source": [
    "assert is_epsilon_correct(\n",
    "    lambda theta, eps: add_epsilon_sign((0.5 * theta * sm.sin(theta)) / (1 - sm.cos(theta)), theta, eps)\n",
    ") == True"
   ]
  },
  {
   "cell_type": "markdown",
   "metadata": {},
   "source": [
    "But in practice, the denominator's taylor series is $(1 - (1 - 0.5 \\epsilon^2))$, and if $\\epsilon$ is near machine precision, then the denominator will end up as exactly `1 - 1 == 0`.  This might be solved by adding $sqrt(\\epsilon)$ instead, but that would introduce a large amount of error.  Instead, we do some algebra:\n",
    "\n",
    "$$\n",
    "\\frac{0.5 \\theta \\sin(\\theta)}{1 - \\cos(\\theta)}\n",
    "= \n",
    "\\frac{0.5 \\theta \\sin(\\theta)}{1 - \\cos(\\theta)} \\frac{1 + \\cos(\\theta)}{1 + \\cos(\\theta)}\n",
    "= \n",
    "\\frac{0.5 \\theta \\sin(\\theta) (1 + \\cos(\\theta))}{1 - \\cos^2(\\theta)}\n",
    "= \n",
    "\\frac{0.5 \\theta \\sin(\\theta) (1 + \\cos(\\theta))}{\\sin^2(\\theta)}\n",
    "= \n",
    "\\frac{0.5 \\theta (1 + \\cos(\\theta))}{\\sin(\\theta)}\n",
    "$$\n",
    "\n",
    "Then, the only singularity is at $\\sin(\\theta) = 0$, which we can fix with:"
   ]
  },
  {
   "cell_type": "code",
   "execution_count": null,
   "metadata": {},
   "outputs": [],
   "source": [
    "assert is_epsilon_correct(\n",
    "    lambda theta, eps: (0.5 * (theta + eps) * (1 + sm.cos(theta))) / (sm.sin(theta) + eps)\n",
    ") == True"
   ]
  },
  {
   "cell_type": "markdown",
   "metadata": {},
   "source": [
    "## Rot3.to_tangent\n",
    "\n",
    "`Rot3.to_tangent` before epsilon handling looks like:\n",
    "\n",
    "```python\n",
    "def logmap():\n",
    "    norm = sm.sqrt(1 - self.q.w**2)\n",
    "    tangent = 2 * self.q.xyz / norm * sm.acos(self.q.w)\n",
    "    return tangent\n",
    "```\n",
    "\n",
    "Ignoring the `q.xyz` variables, the function has a singularity at `w == 1`, of the form\n",
    "$$\n",
    "\\frac{\\arccos(w)}{\\sqrt{1 - w^2}}\n",
    "$$\n",
    "\n",
    "which can be fixed using either the `add_epsilon_near_1_sign` or `add_epsilon_near_1_clamp` methods described in the Generalization section."
   ]
  },
  {
   "cell_type": "markdown",
   "metadata": {},
   "source": [
    "# Multivariate functions"
   ]
  },
  {
   "cell_type": "code",
   "execution_count": null,
   "metadata": {},
   "outputs": [],
   "source": [
    "x, y = sm.symbols('x, y', real=True)"
   ]
  },
  {
   "cell_type": "code",
   "execution_count": null,
   "metadata": {},
   "outputs": [],
   "source": [
    "# Looking at a normalization function\n",
    "epsilon = sm.Symbol('epsilon')\n",
    "expr = x / sm.sqrt(x**2 + y**2)\n",
    "sm.series(expr, x, n=2)\n",
    "sm.simplify(expr.diff(x).limit(x, 0))"
   ]
  },
  {
   "cell_type": "code",
   "execution_count": null,
   "metadata": {},
   "outputs": [],
   "source": [
    "# Simulate a normalization where y = 0\n",
    "is_epsilon_correct(lambda x, eps: sm.Matrix([x + eps, 0]).normalized()[0])"
   ]
  },
  {
   "cell_type": "code",
   "execution_count": null,
   "metadata": {},
   "outputs": [],
   "source": [
    "is_epsilon_correct(lambda x, eps: (x + eps) / sm.sqrt((x+eps)**2 + (0 + eps)**2))"
   ]
  },
  {
   "cell_type": "code",
   "execution_count": null,
   "metadata": {},
   "outputs": [],
   "source": [
    "is_epsilon_correct(lambda x, eps: (x + eps) / sm.sqrt(eps**2 + (x + eps)**2))"
   ]
  },
  {
   "cell_type": "code",
   "execution_count": null,
   "metadata": {},
   "outputs": [],
   "source": [
    "is_epsilon_correct(lambda x, eps: (x + eps) / sm.sqrt(eps**2 + (x + eps)**2))"
   ]
  },
  {
   "cell_type": "markdown",
   "metadata": {},
   "source": [
    "# Sign simplification rules\n",
    "Not directly related to epsilon, but why in tarnation don't these simplify? Seem like pretty simple rules to add."
   ]
  },
  {
   "cell_type": "code",
   "execution_count": null,
   "metadata": {},
   "outputs": [],
   "source": [
    "# Expect this to be x\n",
    "sm.simplify(sm.sign(x) * sm.Abs(x))"
   ]
  },
  {
   "cell_type": "code",
   "execution_count": null,
   "metadata": {},
   "outputs": [],
   "source": [
    "# Expect this to be |x|\n",
    "sm.simplify(sm.sign(x) * x)"
   ]
  },
  {
   "cell_type": "code",
   "execution_count": null,
   "metadata": {},
   "outputs": [],
   "source": [
    "# Expect this to be 1\n",
    "sm.simplify(sm.sign(x) * sm.sign(x))"
   ]
  },
  {
   "cell_type": "code",
   "execution_count": null,
   "metadata": {},
   "outputs": [],
   "source": [
    "# Expect this to be sign(x)\n",
    "sm.simplify(x / sm.Abs(x))"
   ]
  }
 ],
 "metadata": {
  "kernelspec": {
   "display_name": "Python 3",
   "language": "python",
   "name": "python3"
  },
  "language_info": {
   "codemirror_mode": {
    "name": "ipython",
    "version": 3
   },
   "file_extension": ".py",
   "mimetype": "text/x-python",
   "name": "python",
   "nbconvert_exporter": "python",
   "pygments_lexer": "ipython3",
   "version": "3.8.2"
  }
 },
 "nbformat": 4,
 "nbformat_minor": 2
}
