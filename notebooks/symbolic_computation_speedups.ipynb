{
 "cells": [
  {
   "cell_type": "markdown",
   "metadata": {},
   "source": [
    "# Symbolic Computation Speedups"
   ]
  },
  {
   "cell_type": "markdown",
   "metadata": {},
   "source": [
    "This is a simple example of how symbolic computation can yield large reductions in the amount of computation."
   ]
  },
  {
   "cell_type": "code",
   "execution_count": null,
   "metadata": {},
   "outputs": [],
   "source": [
    "# Setup\n",
    "from symforce import geo\n",
    "from symforce import sympy as sm\n",
    "from symforce.notebook_util import display"
   ]
  },
  {
   "cell_type": "markdown",
   "metadata": {},
   "source": [
    "# Autodiff vs Symbolic diff"
   ]
  },
  {
   "cell_type": "markdown",
   "metadata": {},
   "source": [
    "### Multiplying three matrices (for example to chain rule Jacobians)"
   ]
  },
  {
   "cell_type": "code",
   "execution_count": null,
   "metadata": {},
   "outputs": [],
   "source": [
    "A = geo.Matrix.zeros(5, 5).symbolic('A')\n",
    "B = geo.Matrix.zeros(5, 3).symbolic('B')\n",
    "C = geo.Matrix.zeros(3, 3).symbolic('C')\n",
    "display((A, B, C))"
   ]
  },
  {
   "cell_type": "code",
   "execution_count": null,
   "metadata": {},
   "outputs": [],
   "source": [
    "display(A * B * C)"
   ]
  },
  {
   "cell_type": "code",
   "execution_count": null,
   "metadata": {},
   "outputs": [],
   "source": [
    "# Normal matrix multiplication (can happen with SIMD)\n",
    "sm.count_ops(A * B * C)"
   ]
  },
  {
   "cell_type": "markdown",
   "metadata": {},
   "source": [
    "### The same with typical sparsity patterns"
   ]
  },
  {
   "cell_type": "code",
   "execution_count": null,
   "metadata": {},
   "outputs": [],
   "source": [
    "A = geo.Matrix.diag(sm.symbols('A:5'))\n",
    "A[0, 4] = sm.Symbol('A5')\n",
    "B = geo.Matrix.zeros(5, 3)\n",
    "B[:3, :3] = geo.Matrix.diag(sm.symbols('B:3'))\n",
    "B[3, 0] = sm.Symbol('B3')\n",
    "B[3, 1] = sm.Symbol('B3')\n",
    "B[3, 2] = sm.Symbol('B3')\n",
    "B[4, 1] = sm.Symbol('B4')\n",
    "C = geo.M(geo.Rot3.hat(sm.symbols('C:3')))\n",
    "display((A, B, C))"
   ]
  },
  {
   "cell_type": "code",
   "execution_count": null,
   "metadata": {},
   "outputs": [],
   "source": [
    "display(A * B * C)"
   ]
  },
  {
   "cell_type": "code",
   "execution_count": null,
   "metadata": {},
   "outputs": [],
   "source": [
    "# Direct computation of result\n",
    "sm.count_ops(A * B * C)"
   ]
  },
  {
   "cell_type": "code",
   "execution_count": null,
   "metadata": {},
   "outputs": [],
   "source": [
    "# Looking at the sub-expressions\n",
    "intermediates, output = sm.cse(A * B * C)\n",
    "\n",
    "for lhs, rhs in intermediates:\n",
    "    display(sm.Eq(lhs, rhs))\n",
    "display(geo.M(output).reshape(5, 3))"
   ]
  },
  {
   "cell_type": "code",
   "execution_count": null,
   "metadata": {},
   "outputs": [],
   "source": [
    "# With common sub-expression elimination\n",
    "sm.count_ops(intermediates, output)"
   ]
  },
  {
   "cell_type": "code",
   "execution_count": null,
   "metadata": {},
   "outputs": [],
   "source": [
    "# Code generation\n",
    "for lhs, rhs in intermediates:\n",
    "    print('float {} = {};'.format(lhs, rhs))\n",
    "\n",
    "print('')\n",
    "for i, out in enumerate(output):\n",
    "    print('out[{}] = {};'.format(i, out))"
   ]
  },
  {
   "cell_type": "markdown",
   "metadata": {},
   "source": [
    "Further points:\n",
    "\n",
    "* simple example, entries are leaves\n",
    "* only three matrices deep\n",
    "* applies to other domains, not just derivatives + optimization\n",
    "* not considering dynamic allocation (matrices on the heap), pointer chasing\n",
    "* not considering you had to write the jacobians in the first place, test, debug"
   ]
  },
  {
   "cell_type": "code",
   "execution_count": null,
   "metadata": {},
   "outputs": [],
   "source": []
  }
 ],
 "metadata": {
  "kernelspec": {
   "display_name": "Python 2",
   "language": "python",
   "name": "python2"
  },
  "language_info": {
   "codemirror_mode": {
    "name": "ipython",
    "version": 2
   },
   "file_extension": ".py",
   "mimetype": "text/x-python",
   "name": "python",
   "nbconvert_exporter": "python",
   "pygments_lexer": "ipython2",
   "version": "2.7.12"
  }
 },
 "nbformat": 4,
 "nbformat_minor": 2
}
