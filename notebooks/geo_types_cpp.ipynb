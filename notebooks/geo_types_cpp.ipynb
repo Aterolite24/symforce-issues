{
 "cells": [
  {
   "cell_type": "code",
   "execution_count": null,
   "source": [
    "#include \"***REMOVED***\"\n",
    "#include <sym/rot3.h>\n",
    "#include <sym/pose3.h>"
   ],
   "outputs": [],
   "metadata": {}
  },
  {
   "cell_type": "code",
   "execution_count": null,
   "source": [
    "auto identity = sym::Rot3f::Identity();\n",
    "display(identity)"
   ],
   "outputs": [],
   "metadata": {}
  },
  {
   "cell_type": "code",
   "execution_count": null,
   "source": [
    "#include <random>\n",
    "std::mt19937 gen(42);\n",
    "\n",
    "auto random1 = sym::Rot3f::Random(gen);\n",
    "auto random2 = sym::Rot3f::Random(gen);\n",
    "\n",
    "display(random1), display(random2)"
   ],
   "outputs": [],
   "metadata": {}
  },
  {
   "cell_type": "code",
   "execution_count": null,
   "source": [
    "display(random1.Inverse())"
   ],
   "outputs": [],
   "metadata": {}
  },
  {
   "cell_type": "code",
   "execution_count": null,
   "source": [
    "display(random1.Inverse() * random1)"
   ],
   "outputs": [],
   "metadata": {}
  },
  {
   "cell_type": "code",
   "execution_count": null,
   "source": [
    "display(random1 * random2)"
   ],
   "outputs": [],
   "metadata": {}
  },
  {
   "cell_type": "code",
   "execution_count": null,
   "source": [
    "display(random1.Matrix())"
   ],
   "outputs": [],
   "metadata": {}
  },
  {
   "cell_type": "code",
   "execution_count": null,
   "source": [
    "display(random1.ToYawPitchRoll())"
   ],
   "outputs": [],
   "metadata": {}
  },
  {
   "cell_type": "code",
   "execution_count": null,
   "source": [
    "display(random1.AngleAxis().axis())"
   ],
   "outputs": [],
   "metadata": {}
  },
  {
   "cell_type": "code",
   "execution_count": null,
   "source": [
    "display(sym::Rot3f::FromYawPitchRoll(0, 0, 1) * Eigen::Vector3f(1, 0, 0))"
   ],
   "outputs": [],
   "metadata": {}
  },
  {
   "cell_type": "code",
   "execution_count": null,
   "source": [],
   "outputs": [],
   "metadata": {}
  }
 ],
 "metadata": {
  "kernelspec": {
   "display_name": "C++11",
   "language": "C++11",
   "name": "xcpp11"
  },
  "language_info": {
   "codemirror_mode": "text/x-c++src",
   "file_extension": ".cpp",
   "mimetype": "text/x-c++src",
   "name": "c++",
   "version": "-std=c++11"
  }
 },
 "nbformat": 4,
 "nbformat_minor": 2
}