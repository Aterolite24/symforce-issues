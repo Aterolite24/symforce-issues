{
 "cells": [
  {
   "cell_type": "markdown",
   "source": [
    "# Codegen Tutorial"
   ],
   "metadata": {}
  },
  {
   "cell_type": "markdown",
   "source": [
    "One of the most important features of symforce is the ability to generate computationally efficient code from symbolic expressions. Before progressing, first make sure you are familiar with the other symforce tutorials, especially the [Values tutorial](../notebooks/values_tutorial.html).\n",
    "\n",
    "The typical workflow for generating a function is as follows:\n",
    "\n",
    "1. Build an input Values object that defines a symbolic representation of each input to the function. Note that inputs and outputs can be Values objects themselves, which symforce will automatically generate into custom types.\n",
    "2. Build an output Values object that defines the outputs of the function in terms of the objects in the input Values.\n",
    "3. Generate the code in your desired language\n",
    "\n",
    "Aternately, symforce can automatically generate a function given a python function and a list of the types of the inputs."
   ],
   "metadata": {}
  },
  {
   "cell_type": "code",
   "execution_count": null,
   "source": [
    "# Setup\n",
    "import os\n",
    "import symforce\n",
    "symforce.set_backend('symengine')\n",
    "symforce.set_log_level('warning')\n",
    "\n",
    "from symforce import codegen\n",
    "from symforce.codegen import codegen_util\n",
    "from symforce import geo\n",
    "from symforce import ops\n",
    "from symforce import sympy as sm\n",
    "from symforce import types as T\n",
    "from symforce.values import Values\n",
    "from symforce.notebook_util import display, display_code, display_code_file"
   ],
   "outputs": [],
   "metadata": {}
  },
  {
   "cell_type": "markdown",
   "source": [
    "## Code generation using implicit functions"
   ],
   "metadata": {}
  },
  {
   "cell_type": "markdown",
   "source": [
    "First we look at generating functions using a list of input variables and output expressions that are a function of those variables. In this case we don't need to explicitly define a function in python, but can instead generate one directly using the codegen package."
   ],
   "metadata": {}
  },
  {
   "cell_type": "markdown",
   "source": [
    "Let's set up an example for the [double pendulum](https://www.myphysicslab.com/pendulum/double-pendulum-en.html). We'll skip the derivation and just define the equations of motion for the angular acceleration of the two links:"
   ],
   "metadata": {}
  },
  {
   "cell_type": "code",
   "execution_count": null,
   "source": [
    "# Define symbols\n",
    "L = geo.V2.symbolic('L').T      # Length of the two links\n",
    "m = geo.V2.symbolic('m').T      # Mass of the two links\n",
    "ang = geo.V2.symbolic('a').T    # Angle of the two links\n",
    "dang = geo.V2.symbolic('da').T  # Angular velocity of the two links\n",
    "g = sm.Symbol('g')              # Gravity"
   ],
   "outputs": [],
   "metadata": {}
  },
  {
   "cell_type": "code",
   "execution_count": null,
   "source": [
    "# Angular acceleration of the first link\n",
    "ddang_0 = (\n",
    "    -g * (2 * m[0] + m[1]) * sm.sin(ang[0])\n",
    "    - m[1] * g * sm.sin(ang[0] - 2 * ang[1])\n",
    "    - 2\n",
    "    * sm.sin(ang[0] - ang[1])\n",
    "    * m[1]\n",
    "    * (dang[1] * 2 * L[1] + dang[0] * 2 * L[0] * sm.cos(ang[0] - ang[1])))\\\n",
    "    / (L[0] * (2 * m[0] + m[1] - m[1] * sm.cos(2 * ang[0] - 2 * ang[1])))\n",
    "display(ddang_0)"
   ],
   "outputs": [],
   "metadata": {}
  },
  {
   "cell_type": "code",
   "execution_count": null,
   "source": [
    "# Angular acceleration of the second link\n",
    "ddang_1 = (\n",
    "    2\n",
    "    * sm.sin(ang[0] - ang[1])\n",
    "    * (\n",
    "        dang[0] ** 2 * L[0] * (m[0] + m[1])\n",
    "        + g * (m[0] + m[1]) * sm.cos(ang[0])\n",
    "        + dang[1] ** 2 * L[1] * m[1] * sm.cos(ang[0] - ang[1])\n",
    "    )\n",
    ") / (L[1] * (2 * m[0] + m[1] - m[1] * sm.cos(2 * ang[0] - 2 * ang[1])))\n",
    "display(ddang_1)"
   ],
   "outputs": [],
   "metadata": {}
  },
  {
   "cell_type": "markdown",
   "source": [
    "Now let's organize the input symbols into a Values hierarchy:"
   ],
   "metadata": {}
  },
  {
   "cell_type": "code",
   "execution_count": null,
   "source": [
    "inputs = Values()\n",
    "\n",
    "inputs['ang'] = ang\n",
    "inputs['dang'] = dang\n",
    "    \n",
    "with inputs.scope('constants'):\n",
    "    inputs['g'] = g\n",
    "\n",
    "with inputs.scope('params'):\n",
    "    inputs['L'] = L\n",
    "    inputs['m'] = m\n",
    "\n",
    "display(inputs)"
   ],
   "outputs": [],
   "metadata": {}
  },
  {
   "cell_type": "markdown",
   "source": [
    "The output will simply be a 2-vector of the angular accelerations:"
   ],
   "metadata": {}
  },
  {
   "cell_type": "code",
   "execution_count": null,
   "source": [
    "outputs = Values(\n",
    "    ddang=geo.V2(ddang_0, ddang_1)\n",
    ")\n",
    "\n",
    "display(outputs)"
   ],
   "outputs": [],
   "metadata": {}
  },
  {
   "cell_type": "markdown",
   "source": [
    "Now run code generation to produce an executable module (in a temp directory if none provided):"
   ],
   "metadata": {}
  },
  {
   "cell_type": "code",
   "execution_count": null,
   "source": [
    "double_pendulum = codegen.Codegen(\n",
    "    inputs=inputs,\n",
    "    outputs=outputs,\n",
    "    config=codegen.CppConfig(),\n",
    "    name='double_pendulum',\n",
    "    return_key='ddang'\n",
    ")\n",
    "double_pendulum_data = double_pendulum.generate_function()\n",
    "\n",
    "# Print what we generated\n",
    "print('Files generated in {}:\\n'.format(double_pendulum_data['output_dir']))\n",
    "for f in double_pendulum_data['generated_files']:\n",
    "    print('  |- {}'.format(os.path.relpath(f, double_pendulum_data['output_dir'])))"
   ],
   "outputs": [],
   "metadata": {}
  },
  {
   "cell_type": "code",
   "execution_count": null,
   "source": [
    "display_code_file(os.path.join(double_pendulum_data['cpp_function_dir'], 'double_pendulum.h'), 'C++')"
   ],
   "outputs": [],
   "metadata": {}
  },
  {
   "cell_type": "markdown",
   "source": [
    "We can also generate functions with different function declarations:"
   ],
   "metadata": {}
  },
  {
   "cell_type": "code",
   "execution_count": null,
   "source": [
    "# Function using structs as inputs and outputs (returned as pointer arg)\n",
    "input_values = Values(inputs=inputs)\n",
    "output_values = Values(outputs=outputs)\n",
    "namespace = 'double_pendulum'\n",
    "double_pendulum_values  = codegen.Codegen(\n",
    "    inputs=input_values,\n",
    "    outputs=output_values,\n",
    "    config=codegen.CppConfig(),\n",
    "    name='double_pendulum'\n",
    ")\n",
    "double_pendulum_values_data = double_pendulum_values.generate_function(namespace=namespace)\n",
    "\n",
    "# Print what we generated. Note the nested structs that were automatically generated.\n",
    "print('Files generated in {}:\\n'.format(double_pendulum_values_data['output_dir']))\n",
    "for f in double_pendulum_values_data['generated_files']:\n",
    "    print('  |- {}'.format(os.path.relpath(f, double_pendulum_values_data['output_dir'])))\n",
    "\n",
    "display_code_file(os.path.join(double_pendulum_values_data['cpp_function_dir'], 'double_pendulum.h'), 'C++')"
   ],
   "outputs": [],
   "metadata": {}
  },
  {
   "cell_type": "markdown",
   "source": [
    "Finally, we can generate the same function in other languages as well:"
   ],
   "metadata": {}
  },
  {
   "cell_type": "code",
   "execution_count": null,
   "source": [
    "namespace = 'double_pendulum'\n",
    "double_pendulum_python = codegen.Codegen(\n",
    "    inputs=inputs,\n",
    "    outputs=outputs,\n",
    "    config=codegen.PythonConfig(),\n",
    "    name='double_pendulum',\n",
    "    return_key='ddang'\n",
    ")\n",
    "double_pendulum_python_data = double_pendulum_python.generate_function(namespace=namespace)\n",
    "\n",
    "print('Files generated in {}:\\n'.format(double_pendulum_python_data['output_dir']))\n",
    "for f in double_pendulum_python_data['generated_files']:\n",
    "    print('  |- {}'.format(os.path.relpath(f, double_pendulum_python_data['output_dir'])))\n",
    "\n",
    "display_code_file(os.path.join(double_pendulum_python_data['python_function_dir'], 'double_pendulum.py'), 'python')"
   ],
   "outputs": [],
   "metadata": {}
  },
  {
   "cell_type": "code",
   "execution_count": null,
   "source": [
    "types_module = codegen_util.load_generated_package(os.path.join(double_pendulum_python_data[\"python_types_dir\"], namespace))\n",
    "\n",
    "ang = [0.0, 0.5]\n",
    "dang = [0.0, 0.0]\n",
    "consts = types_module.constants_t()\n",
    "consts.g = 9.81\n",
    "params = types_module.params_t()\n",
    "params.L = [0.5, 0.3]\n",
    "params.m = [0.3, 0.2]\n",
    "\n",
    "gen_module = codegen_util.load_generated_package(double_pendulum_python_data[\"python_function_dir\"])\n",
    "gen_module.double_pendulum(ang, dang, consts, params)"
   ],
   "outputs": [],
   "metadata": {}
  },
  {
   "cell_type": "markdown",
   "source": [
    "## Generating explicit functions"
   ],
   "metadata": {}
  },
  {
   "cell_type": "markdown",
   "source": [
    "Next we look at using existing python functions to generate an equivalent function using the codegen package. Here we must specify the inputs of the function, and can decide how the generated function is declared (e.g. whether to return an object using a return statement or a pointer passed as an argument to the function)."
   ],
   "metadata": {}
  },
  {
   "cell_type": "code",
   "execution_count": null,
   "source": [
    "def az_el_from_point(nav_T_cam: geo.Pose3, nav_t_point: geo.Vector3, epsilon: T.Scalar=0) -> geo.Vector2:\n",
    "    \"\"\"\n",
    "    Transform a nav point into azimuth / elevation angles in the\n",
    "    camera frame.\n",
    "\n",
    "    Args:\n",
    "        nav_T_cam (geo.Pose3): camera pose in the world\n",
    "        nav_t_point (geo.Matrix): nav point\n",
    "        epsilon (Scalar): small number to avoid singularities\n",
    "\n",
    "    Returns:\n",
    "        geo.Matrix: (azimuth, elevation)\n",
    "    \"\"\"\n",
    "    cam_t_point = nav_T_cam.inverse() * nav_t_point\n",
    "    x, y, z = cam_t_point\n",
    "    theta = sm.atan2(y, x + epsilon)\n",
    "    phi = sm.pi / 2 - sm.acos(z / (cam_t_point.norm() + epsilon))\n",
    "    return geo.V2(theta, phi)"
   ],
   "outputs": [],
   "metadata": {}
  },
  {
   "cell_type": "code",
   "execution_count": null,
   "source": [
    "az_el_codegen = codegen.Codegen.function(\n",
    "    name='AzElFromPoint',\n",
    "    func=az_el_from_point,\n",
    "    config=codegen.CppConfig()\n",
    ")\n",
    "az_el_codegen_data = az_el_codegen.generate_function()\n",
    "\n",
    "print('Files generated in {}:\\n'.format(az_el_codegen_data['output_dir']))\n",
    "for f in az_el_codegen_data['generated_files']:\n",
    "    print('  |- {}'.format(os.path.relpath(f, az_el_codegen_data['output_dir'])))\n",
    "\n",
    "display_code_file(os.path.join(az_el_codegen_data['generated_files'][0]), 'C++')"
   ],
   "outputs": [],
   "metadata": {}
  },
  {
   "cell_type": "markdown",
   "source": [
    "## Generating functions jacobians"
   ],
   "metadata": {}
  },
  {
   "cell_type": "code",
   "execution_count": null,
   "source": [
    "codegen_with_jacobians = az_el_codegen.create_with_derivatives(\n",
    "    # Just compute wrt the pose and point, not epsilon\n",
    "    which_args=[0, 1],\n",
    "    # Include value, not just jacobians\n",
    "    include_result=True\n",
    ")\n",
    "\n",
    "data = codegen_with_jacobians.generate_function()\n",
    "from symforce.notebook_util import display_code_file\n",
    "display_code_file(os.path.join(data['generated_files'][0]), 'C++')"
   ],
   "outputs": [],
   "metadata": {}
  }
 ],
 "metadata": {
  "kernelspec": {
   "display_name": "***REMOVED***",
   "language": "python",
   "name": "python3"
  },
  "language_info": {
   "codemirror_mode": {
    "name": "ipython",
    "version": 3
   },
   "file_extension": ".py",
   "mimetype": "text/x-python",
   "name": "python",
   "nbconvert_exporter": "python",
   "pygments_lexer": "ipython3",
   "version": "3.8.2"
  }
 },
 "nbformat": 4,
 "nbformat_minor": 2
}