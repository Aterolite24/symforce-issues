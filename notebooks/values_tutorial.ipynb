{
 "cells": [
  {
   "cell_type": "markdown",
   "metadata": {},
   "source": [
    "# Values Tutorial"
   ]
  },
  {
   "cell_type": "markdown",
   "metadata": {},
   "source": [
    "For functions that have just a few inputs and outputs, the function codegen approach works best. For growing to more complex use cases, we need the ability to build up large collections of symbolic expressions with a structured input/output specification, which will be used for code generation.\n",
    "\n",
    "This specification is done by building expressions into [Values](../api/symforce.values.values.html#symforce.values.values.Values) objects, which are ordered dict-like containers:"
   ]
  },
  {
   "cell_type": "code",
   "execution_count": null,
   "metadata": {},
   "outputs": [],
   "source": [
    "# Setup\n",
    "import symforce\n",
    "symforce.set_backend('sympy')\n",
    "symforce.set_log_level('warning')\n",
    "\n",
    "from symforce import geo\n",
    "from symforce import sympy as sm\n",
    "from symforce.notebook_util import display, display_code, display_code_file"
   ]
  },
  {
   "cell_type": "code",
   "execution_count": null,
   "metadata": {},
   "outputs": [],
   "source": [
    "from symforce.values import Values\n",
    "\n",
    "inputs = Values(\n",
    "    x=sm.Symbol('x'),\n",
    "    y=geo.Rot2.symbolic('c')\n",
    ")\n",
    "display(inputs)"
   ]
  },
  {
   "cell_type": "markdown",
   "metadata": {},
   "source": [
    "The `.add()` method can add a symbol using its name as the key:"
   ]
  },
  {
   "cell_type": "code",
   "execution_count": null,
   "metadata": {},
   "outputs": [],
   "source": [
    "inputs.add(sm.Symbol('foo'))\n",
    "display(inputs)"
   ]
  },
  {
   "cell_type": "markdown",
   "metadata": {},
   "source": [
    "Adding sub-values are well encouraged:"
   ]
  },
  {
   "cell_type": "code",
   "execution_count": null,
   "metadata": {},
   "outputs": [],
   "source": [
    "x, y = sm.symbols('x y')\n",
    "expr = x**2 + sm.sin(y) / x**2\n",
    "inputs['states'] = Values(p=expr)\n",
    "display(inputs)"
   ]
  },
  {
   "cell_type": "markdown",
   "metadata": {},
   "source": [
    "A Values serializes to a depth-first traversed list. This means it implements StorageOps:"
   ]
  },
  {
   "cell_type": "code",
   "execution_count": null,
   "metadata": {},
   "outputs": [],
   "source": [
    "display(inputs.to_storage())"
   ]
  },
  {
   "cell_type": "markdown",
   "metadata": {},
   "source": [
    "We can also get an equivalently flattened list of keys, with `.` separation for sub-values:"
   ]
  },
  {
   "cell_type": "code",
   "execution_count": null,
   "metadata": {},
   "outputs": [],
   "source": [
    "display(inputs.keys_recursive())"
   ]
  },
  {
   "cell_type": "markdown",
   "metadata": {},
   "source": [
    "Note that there is a `.values_recursive()`, but it's equivalent to `.to_storage()`. We can also get pairs with `.items_recursive()`:"
   ]
  },
  {
   "cell_type": "code",
   "execution_count": null,
   "metadata": {},
   "outputs": [],
   "source": [
    "list(inputs.items_recursive())"
   ]
  },
  {
   "cell_type": "markdown",
   "metadata": {},
   "source": [
    "To fully reconstruct the types in the Values from the serialized scalars, we need an index that describes which parts of the serialized list correspond to which types. The spec is `(start_index, typename, shape, item_index)`:"
   ]
  },
  {
   "cell_type": "code",
   "execution_count": null,
   "metadata": {},
   "outputs": [],
   "source": [
    "index = inputs.index()\n",
    "index"
   ]
  },
  {
   "cell_type": "markdown",
   "metadata": {},
   "source": [
    "With a serialized list and an index, we can get the values back:"
   ]
  },
  {
   "cell_type": "code",
   "execution_count": null,
   "metadata": {},
   "outputs": [],
   "source": [
    "inputs2 = Values.from_storage(inputs.values_recursive(), index)\n",
    "assert inputs == inputs2\n",
    "display(inputs)"
   ]
  },
  {
   "cell_type": "markdown",
   "metadata": {},
   "source": [
    "The `item_index` is a recursive structure that can contain the index for a sub-values:"
   ]
  },
  {
   "cell_type": "code",
   "execution_count": null,
   "metadata": {},
   "outputs": [],
   "source": [
    "start_index, typename, shape, item_index = inputs.index()['states']\n",
    "assert item_index == inputs['states'].index()"
   ]
  },
  {
   "cell_type": "markdown",
   "metadata": {},
   "source": [
    "We can also set sub-values directly with dot notation in the keys. They get split up:"
   ]
  },
  {
   "cell_type": "code",
   "execution_count": null,
   "metadata": {},
   "outputs": [],
   "source": [
    "inputs['states.blah'] = 3\n",
    "display(inputs)"
   ]
  },
  {
   "cell_type": "markdown",
   "metadata": {},
   "source": [
    "The `.attr` field also allows attribute access rather than key access:"
   ]
  },
  {
   "cell_type": "code",
   "execution_count": null,
   "metadata": {},
   "outputs": [],
   "source": [
    "assert inputs['states.p'] is inputs['states']['p'] is inputs.attr.states.p\n",
    "display(inputs.attr.states.p)"
   ]
  },
  {
   "cell_type": "markdown",
   "metadata": {},
   "source": [
    "Finally, SymForce adds the concept of a name scope to namespace symbols. Within a scope block, symbol names get prefixed with the scope name:"
   ]
  },
  {
   "cell_type": "code",
   "execution_count": null,
   "metadata": {},
   "outputs": [],
   "source": [
    "with sm.scope('params'):\n",
    "    s = sm.Symbol('cost')\n",
    "display(s)"
   ]
  },
  {
   "cell_type": "markdown",
   "metadata": {},
   "source": [
    "A common use case is to call a function that adds symbols within your own name scope to avoid name collisions. You can also chain name scopes:"
   ]
  },
  {
   "cell_type": "code",
   "execution_count": null,
   "metadata": {},
   "outputs": [],
   "source": [
    "v = Values()\n",
    "v.add(sm.Symbol('x'))\n",
    "with sm.scope('foo'):\n",
    "    v.add(sm.Symbol('x'))\n",
    "    with sm.scope('bar'):\n",
    "        v.add(sm.Symbol('x'))\n",
    "display(v)\n",
    "display(v.attr.foo.bar.x)"
   ]
  },
  {
   "cell_type": "markdown",
   "metadata": {},
   "source": [
    "The values class also provides a `.scope()` method that not only applies the scope to symbol names but also to keys added to the Values:"
   ]
  },
  {
   "cell_type": "code",
   "execution_count": null,
   "metadata": {},
   "outputs": [],
   "source": [
    "v = Values()\n",
    "with v.scope('hello'):\n",
    "    v['y'] = x**2\n",
    "    v['z'] = sm.Symbol('z')\n",
    "v"
   ]
  },
  {
   "cell_type": "markdown",
   "metadata": {},
   "source": [
    "This flexible set of features provided by the Values class allows conveniently building up large expressions, and acts as the interface to code generation."
   ]
  }
 ],
 "metadata": {
  "kernelspec": {
   "display_name": "Python 2",
   "language": "python",
   "name": "python2"
  },
  "language_info": {
   "codemirror_mode": {
    "name": "ipython",
    "version": 2
   },
   "file_extension": ".py",
   "mimetype": "text/x-python",
   "name": "python",
   "nbconvert_exporter": "python",
   "pygments_lexer": "ipython2",
   "version": "2.7.12"
  }
 },
 "nbformat": 4,
 "nbformat_minor": 2
}
