{
 "cells": [
  {
   "cell_type": "markdown",
   "metadata": {},
   "source": [
    "# Evaluator Codegen Tutorial"
   ]
  },
  {
   "cell_type": "markdown",
   "metadata": {},
   "source": [
    "Code generation is the core of SymForce - you provide a Values that describes the symbolic inputs to your computation, a Values that gives the desired output expressions, and it generates an executable package to efficiently evaluate that expression. So far Python and C++ packages are supported, but it is simple to add more.\n",
    "\n",
    "The executable packages are standalone and do not depend on SymForce. They contain type structs generated from the input/output Values, implementations of the concepts, and an Evaluator class to execute the generated code."
   ]
  },
  {
   "cell_type": "markdown",
   "metadata": {},
   "source": [
    "Let's set up an example for the [double pendulum](https://www.myphysicslab.com/pendulum/double-pendulum-en.html). We'll skip the derivation and just define the equations of motion for the angular acceleration of the two links:"
   ]
  },
  {
   "cell_type": "code",
   "execution_count": null,
   "metadata": {},
   "outputs": [],
   "source": [
    "# Setup\n",
    "import os\n",
    "import symforce\n",
    "symforce.set_backend('sympy')\n",
    "symforce.set_log_level('warning')\n",
    "\n",
    "from symforce import geo\n",
    "from symforce import sympy as sm\n",
    "from symforce.values import Values\n",
    "from symforce.notebook_util import display, display_code, display_code_file"
   ]
  },
  {
   "cell_type": "code",
   "execution_count": null,
   "metadata": {},
   "outputs": [],
   "source": [
    "# Define symbols\n",
    "L = geo.V2().symbolic('L').T      # Length of the two links\n",
    "m = geo.V2().symbolic('m').T      # Mass of the two links\n",
    "ang = geo.V2().symbolic('a').T    # Angle of the two links\n",
    "dang = geo.V2().symbolic('da').T  # Angular velocity of the two links\n",
    "g = sm.Symbol('g')                # Gravity"
   ]
  },
  {
   "cell_type": "code",
   "execution_count": null,
   "metadata": {},
   "outputs": [],
   "source": [
    "# Angular acceleration of the first link\n",
    "ddang_0 = (\n",
    "    -g * (2 * m[0] + m[1]) * sm.sin(ang[0])\n",
    "    - m[1] * g * sm.sin(ang[0] - 2 * ang[1])\n",
    "    - 2\n",
    "    * sm.sin(ang[0] - ang[1])\n",
    "    * m[1]\n",
    "    * (dang[1] * 2 * L[1] + dang[0] * 2 * L[0] * sm.cos(ang[0] - ang[1])))\\\n",
    "    / (L[0] * (2 * m[0] + m[1] - m[1] * sm.cos(2 * ang[0] - 2 * ang[1])))\n",
    "display(ddang_0)"
   ]
  },
  {
   "cell_type": "code",
   "execution_count": null,
   "metadata": {},
   "outputs": [],
   "source": [
    "# Angular acceleration of the second link\n",
    "ddang_1 = (\n",
    "    2\n",
    "    * sm.sin(ang[0] - ang[1])\n",
    "    * (\n",
    "        dang[0] ** 2 * L[0] * (m[0] + m[1])\n",
    "        + g * (m[0] + m[1]) * sm.cos(ang[0])\n",
    "        + dang[1] ** 2 * L[1] * m[1] * sm.cos(ang[0] - ang[1])\n",
    "    )\n",
    ") / (L[1] * (2 * m[0] + m[1] - m[1] * sm.cos(2 * ang[0] - 2 * ang[1])))\n",
    "display(ddang_1)"
   ]
  },
  {
   "cell_type": "markdown",
   "metadata": {},
   "source": [
    "Now let's organize the input symbols into a Values hierarchy:"
   ]
  },
  {
   "cell_type": "code",
   "execution_count": null,
   "metadata": {},
   "outputs": [],
   "source": [
    "inputs = Values()\n",
    "\n",
    "inputs['ang'] = ang\n",
    "inputs['dang'] = dang\n",
    "    \n",
    "with inputs.scope('constants'):\n",
    "    inputs['g'] = g\n",
    "\n",
    "with inputs.scope('params'):\n",
    "    inputs['L'] = L\n",
    "    inputs['m'] = m\n",
    "\n",
    "inputs"
   ]
  },
  {
   "cell_type": "markdown",
   "metadata": {},
   "source": [
    "The output will simply be a 2-vector of the angular accelerations:"
   ]
  },
  {
   "cell_type": "code",
   "execution_count": null,
   "metadata": {},
   "outputs": [],
   "source": [
    "outputs = Values(\n",
    "    ddang=geo.V2(ddang_0, ddang_1)\n",
    ")"
   ]
  },
  {
   "cell_type": "markdown",
   "metadata": {},
   "source": [
    "Now run code generation to produce an executable module (in a temp directory if none provided):"
   ]
  },
  {
   "cell_type": "code",
   "execution_count": null,
   "metadata": {},
   "outputs": [],
   "source": [
    "from symforce.codegen import EvaluatorCodegen\n",
    "\n",
    "codegen = EvaluatorCodegen(inputs, outputs, 'double_pendulum')\n",
    "py_data = codegen.generate()\n",
    "\n",
    "# Print what we generated\n",
    "import os\n",
    "package_dir = py_data['package_dir']\n",
    "print('Files generated in package {}:\\n'.format(package_dir))\n",
    "for f in py_data['generated_files']:\n",
    "    print('  |- {}'.format(os.path.relpath(f, package_dir)))"
   ]
  },
  {
   "cell_type": "markdown",
   "metadata": {},
   "source": [
    "That's it. You can see in the list above that we produced input types for each Values object (including nested ones), a StorageOps implementation, an Evaluator class to execute the code, and an example usage script."
   ]
  },
  {
   "cell_type": "markdown",
   "metadata": {},
   "source": [
    "Let's look at the `input_t` type that was generated from the input `Values`. It's a very basic struct type that contains the values keys as attributes. Note that this backend uses numpy types."
   ]
  },
  {
   "cell_type": "code",
   "execution_count": null,
   "metadata": {},
   "outputs": [],
   "source": [
    "display_code_file(os.path.join(package_dir, 'types', 'input_t.py'), 'python')"
   ]
  },
  {
   "cell_type": "markdown",
   "metadata": {},
   "source": [
    "The StorageOps implementation for this type goes back and forth to a Python list:"
   ]
  },
  {
   "cell_type": "code",
   "execution_count": null,
   "metadata": {},
   "outputs": [],
   "source": [
    "display_code_file(os.path.join(package_dir, 'storage_ops', 'input_t.py'), 'python')"
   ]
  },
  {
   "cell_type": "markdown",
   "metadata": {},
   "source": [
    "Now the evaluator code, which computes the output expression and uses the StorageOps methods as helpers:"
   ]
  },
  {
   "cell_type": "code",
   "execution_count": null,
   "metadata": {},
   "outputs": [],
   "source": [
    "display_code_file(os.path.join(package_dir, 'evaluator.py'), 'python')"
   ]
  },
  {
   "cell_type": "markdown",
   "metadata": {},
   "source": [
    "The `_execute()` method above computes the output expression. It operates on lists rather than the types, which makes code generation across languages more uniform. Note how there are `tmp` variables for shared intermediate values. This is a result of [common sub-expression elimination](https://en.wikipedia.org/wiki/Common_subexpression_elimination), which is a key step to efficient execution. As problems become large, sharing sub-expressions between all output values is a huge advantage of symbolic computation combined with code generation."
   ]
  },
  {
   "cell_type": "markdown",
   "metadata": {},
   "source": [
    "SymPy itself has comprehensive code generation [tools](https://docs.sympy.org/latest/modules/codegen.html), which SymForce can leverage under the hood. However, it is easy to hit bottlenecks and hard to scale up both in terms of organization and performance. SymForce is optimized for these two things:\n",
    "\n",
    "1) Generate production-ready code out of the box  \n",
    "2) Scale up to large problems efficiently  "
   ]
  },
  {
   "cell_type": "markdown",
   "metadata": {},
   "source": [
    "## Execution"
   ]
  },
  {
   "cell_type": "markdown",
   "metadata": {},
   "source": [
    "Execution is a matter of instantiating the generated `Evaluator` class and calling it with an `input_t` type. The generated example is directly runnable and demonstrates this. The only dependency is numpy for Python and the standard library for C++ generated code. They do **not** depend on symforce."
   ]
  },
  {
   "cell_type": "markdown",
   "metadata": {},
   "source": [
    "Normally we would import the package generated on disk by adding the directory to the path. For Python, SymForce dynamically loads the package for you and provides the evaluator class:"
   ]
  },
  {
   "cell_type": "code",
   "execution_count": null,
   "metadata": {},
   "outputs": [],
   "source": [
    "evaluator = py_data['evaluator']\n",
    "evaluator"
   ]
  },
  {
   "cell_type": "markdown",
   "metadata": {},
   "source": [
    "Let's create an input type and fill its values:"
   ]
  },
  {
   "cell_type": "code",
   "execution_count": null,
   "metadata": {},
   "outputs": [],
   "source": [
    "import numpy as np\n",
    "\n",
    "inp = evaluator.input_t()\n",
    "inp.constants.g = 9.81               # [m/s^2]\n",
    "inp.params.L = np.array([0.5, 0.8])  # [m]\n",
    "inp.params.m = np.array([0.5, 1.1])  # [kg]\n",
    "inp.ang = np.array([0.0, 0.3])       # [rad]\n",
    "inp.dang = np.array([0.0, 0.0])      # [rad/s]\n",
    "inp"
   ]
  },
  {
   "cell_type": "markdown",
   "metadata": {},
   "source": [
    "Execute to get the outputs:"
   ]
  },
  {
   "cell_type": "code",
   "execution_count": null,
   "metadata": {},
   "outputs": [],
   "source": [
    "# Execute\n",
    "out = evaluator.execute(inp)\n",
    "out"
   ]
  },
  {
   "cell_type": "markdown",
   "metadata": {},
   "source": [
    "For fun, simulate five seconds of the pendulum and plot the angles:"
   ]
  },
  {
   "cell_type": "code",
   "execution_count": null,
   "metadata": {},
   "outputs": [],
   "source": [
    "%matplotlib inline\n",
    "from matplotlib import pyplot as plt\n",
    "\n",
    "def simulate(inp, out, dt):\n",
    "    inp.dang += out.ddang * dt\n",
    "    inp.ang += inp.dang * dt\n",
    "\n",
    "steps = 1000\n",
    "ts = np.linspace(0, 5.0, num=steps)\n",
    "angles = np.zeros((steps, 2))\n",
    "for i in range(len(ts) - 1):\n",
    "    out = evaluator.execute(inp)\n",
    "    simulate(inp, out, dt=ts[i + 1] - ts[i])\n",
    "    angles[i, :] = inp.ang\n",
    "\n",
    "plt.plot(ts, angles);"
   ]
  },
  {
   "cell_type": "markdown",
   "metadata": {},
   "source": [
    "## C++ Code Generation"
   ]
  },
  {
   "cell_type": "code",
   "execution_count": null,
   "metadata": {},
   "outputs": [],
   "source": [
    "Code generation works the same in every language, we just specify the mode argument:"
   ]
  },
  {
   "cell_type": "code",
   "execution_count": null,
   "metadata": {},
   "outputs": [],
   "source": [
    "from symforce.codegen import EvaluatorCodegen\n",
    "from symforce.codegen import CodegenMode\n",
    "\n",
    "codegen = EvaluatorCodegen(inputs, outputs, 'double_pendulum')\n",
    "cpp_data = codegen.generate(mode=CodegenMode.CPP)\n",
    "\n",
    "# Print what we generated\n",
    "import os\n",
    "package_dir = cpp_data['package_dir']\n",
    "print('Files generated in package {}:\\n'.format(package_dir))\n",
    "for f in cpp_data['generated_files']:\n",
    "    print('  |- {}'.format(os.path.relpath(f, package_dir)))"
   ]
  },
  {
   "cell_type": "markdown",
   "metadata": {},
   "source": [
    "Let's look at a type:"
   ]
  },
  {
   "cell_type": "code",
   "execution_count": null,
   "metadata": {},
   "outputs": [],
   "source": [
    "display_code_file(os.path.join(package_dir, 'types', 'input_t.h'), 'C++')"
   ]
  },
  {
   "cell_type": "markdown",
   "metadata": {},
   "source": [
    "StorageOps are done through template specialization:"
   ]
  },
  {
   "cell_type": "code",
   "execution_count": null,
   "metadata": {},
   "outputs": [],
   "source": [
    "display_code_file(os.path.join(package_dir, 'storage_ops', 'input_t.h'), 'C++')"
   ]
  },
  {
   "cell_type": "markdown",
   "metadata": {},
   "source": [
    "The generated code is separated into a .cc file of the Evaluator:"
   ]
  },
  {
   "cell_type": "code",
   "execution_count": null,
   "metadata": {},
   "outputs": [],
   "source": [
    "display_code_file(os.path.join(package_dir, 'evaluator.cc'), 'C++')"
   ]
  },
  {
   "cell_type": "markdown",
   "metadata": {},
   "source": [
    "Let's look at the usage example:"
   ]
  },
  {
   "cell_type": "code",
   "execution_count": null,
   "metadata": {},
   "outputs": [],
   "source": [
    "display_code_file(os.path.join(package_dir, 'example', 'example.cc'), 'C++')"
   ]
  },
  {
   "cell_type": "markdown",
   "metadata": {},
   "source": [
    "It also comes with a basic Makefile to build it, assuming `clang` is available by default:"
   ]
  },
  {
   "cell_type": "code",
   "execution_count": null,
   "metadata": {},
   "outputs": [],
   "source": [
    "display_code_file(os.path.join(package_dir, 'example', 'Makefile'), 'make')"
   ]
  },
  {
   "cell_type": "markdown",
   "metadata": {},
   "source": [
    "We can use subprocess to compile and run the example. Note that it prints a nan because of divison by zero, since the inputs are mostly filled with zeros. There is a technique not covered here for ever avoiding nans."
   ]
  },
  {
   "cell_type": "code",
   "execution_count": null,
   "metadata": {},
   "outputs": [],
   "source": [
    "import subprocess\n",
    "out = subprocess.check_output(['make', '-C', os.path.join(package_dir, 'example')])\n",
    "print(out.decode())"
   ]
  },
  {
   "cell_type": "code",
   "execution_count": null,
   "metadata": {},
   "outputs": [],
   "source": [
    "out = subprocess.check_output([os.path.join(package_dir, 'example', 'example')])\n",
    "print(out.decode())"
   ]
  },
  {
   "cell_type": "markdown",
   "metadata": {},
   "source": [
    "## Advanced Topics"
   ]
  },
  {
   "cell_type": "markdown",
   "metadata": {},
   "source": [
    "TODO: Handling singularities and NaNs  \n",
    "TODO: Conditional logic  \n",
    "TODO: Optimization  \n",
    "TODO: Manifolds and Lie groups  \n",
    "TODO: Geometric algebra  "
   ]
  },
  {
   "cell_type": "markdown",
   "metadata": {},
   "source": [
    "## Cleanup"
   ]
  },
  {
   "cell_type": "code",
   "execution_count": null,
   "metadata": {},
   "outputs": [],
   "source": [
    "from symforce import python_util\n",
    "python_util.remove_if_exists(py_data['package_dir'])\n",
    "python_util.remove_if_exists(cpp_data['package_dir'])"
   ]
  }
 ],
 "metadata": {
  "kernelspec": {
   "display_name": "Python 2",
   "language": "python",
   "name": "python2"
  },
  "language_info": {
   "codemirror_mode": {
    "name": "ipython",
    "version": 2
   },
   "file_extension": ".py",
   "mimetype": "text/x-python",
   "name": "python",
   "nbconvert_exporter": "python",
   "pygments_lexer": "ipython2",
   "version": "2.7.12"
  }
 },
 "nbformat": 4,
 "nbformat_minor": 2
}
